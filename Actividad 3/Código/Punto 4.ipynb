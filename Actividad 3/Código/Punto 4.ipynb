{
 "cells": [
  {
   "cell_type": "markdown",
   "id": "3a603f26",
   "metadata": {},
   "source": [
    "### Punto 4. Ejercicio propuesto página 231"
   ]
  },
  {
   "cell_type": "code",
   "execution_count": 4,
   "id": "5dbd0bbb",
   "metadata": {},
   "outputs": [
    {
     "name": "stdout",
     "output_type": "stream",
     "text": [
      "Nombre del estudiante: Juan Muriel\n",
      "Carrera del estudiante: Matemáticas\n",
      "Nombre del profesor: Rodney Jaramillo\n",
      "Departamento del profesor: Matemáticas\n"
     ]
    }
   ],
   "source": [
    "class Persona:\n",
    "    def __init__(self, nombre: str, direccion: str):\n",
    "        self._nombre = nombre\n",
    "        self._direccion = direccion\n",
    "\n",
    "    def getNombre(self):\n",
    "        return self._nombre\n",
    "\n",
    "    def getDireccion(self):\n",
    "        return self._direccion\n",
    "\n",
    "    def setNombre(self, nombre: str):\n",
    "        self._nombre = nombre\n",
    "\n",
    "    def setDireccion(self, direccion: str):\n",
    "        self._direccion = direccion\n",
    "\n",
    "class Estudiante(Persona):\n",
    "    def __init__(self, nombre: str, direccion: str, carrera: str, semestre: int):\n",
    "        super().__init__(nombre, direccion)\n",
    "        self._carrera = carrera\n",
    "        self._semestre = semestre\n",
    "\n",
    "    def getCarrera(self) -> str:\n",
    "        return self._carrera\n",
    "\n",
    "    def getSemestre(self) -> int:\n",
    "        return self._semestre\n",
    "\n",
    "    def setCarrera(self, carrera: str):\n",
    "        self._carrera = carrera\n",
    "\n",
    "    def setSemestre(self, semestre: int):\n",
    "        self._semestre = semestre\n",
    "\n",
    "class Profesor(Persona):\n",
    "    def __init__(self, nombre: str, direccion: str, departamento: str, categoria: str):\n",
    "        super().__init__(nombre, direccion)\n",
    "        self._departamento = departamento\n",
    "        self._categoria = categoria\n",
    "\n",
    "    def getDepartamento(self):\n",
    "        return self._departamento\n",
    "\n",
    "    def getCategoria(self):\n",
    "        return self._categoria\n",
    "\n",
    "    def setDepartamento(self, departamento: str):\n",
    "        self._departamento = departamento\n",
    "\n",
    "    def setCategoria(self, categoria: str):\n",
    "        self._categoria = categoria\n",
    "\n",
    "# Ejemplo de uso:\n",
    "if __name__ == \"__main__\":\n",
    "    estudiante1 = Estudiante(\"Juan Muriel\", \"Calle 123\", \"Ingeniería administrativa\", 1)\n",
    "    Estudiante.setCarrera(estudiante1, \"Matemáticas\")\n",
    "    Estudiante.setSemestre(estudiante1, 7)\n",
    "    print(f\"Nombre del estudiante: {estudiante1.getNombre()}\")\n",
    "    print(f\"Carrera del estudiante: {estudiante1.getCarrera()}\")\n",
    "\n",
    "    profesor1 = Profesor(\"Manuela Bastidas\", \"Avenida 456\", \"Zootécnia\", \"Ocasional\")\n",
    "    Profesor.setNombre(profesor1, \"Rodney Jaramillo\")\n",
    "    Profesor.setDepartamento(profesor1, \"Matemáticas\")\n",
    "    Profesor.setCategoria(profesor1, \"Titular\")\n",
    "    print(f\"Nombre del profesor: {profesor1.getNombre()}\")\n",
    "    print(f\"Departamento del profesor: {profesor1.getDepartamento()}\")"
   ]
  }
 ],
 "metadata": {
  "kernelspec": {
   "display_name": "Python 3",
   "language": "python",
   "name": "python3"
  },
  "language_info": {
   "codemirror_mode": {
    "name": "ipython",
    "version": 3
   },
   "file_extension": ".py",
   "mimetype": "text/x-python",
   "name": "python",
   "nbconvert_exporter": "python",
   "pygments_lexer": "ipython3",
   "version": "3.12.10"
  }
 },
 "nbformat": 4,
 "nbformat_minor": 5
}
