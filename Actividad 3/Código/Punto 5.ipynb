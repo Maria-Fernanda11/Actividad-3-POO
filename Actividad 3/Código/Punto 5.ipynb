{
 "cells": [
  {
   "cell_type": "markdown",
   "id": "3f1c1f7f",
   "metadata": {},
   "source": [
    "### Punto 5. Página 231"
   ]
  },
  {
   "cell_type": "code",
   "execution_count": 1,
   "id": "fa109b86",
   "metadata": {},
   "outputs": [
    {
     "name": "stdout",
     "output_type": "stream",
     "text": [
      "Es un profesor titular.\n"
     ]
    }
   ],
   "source": [
    "class Profesor:\n",
    "    def imprimir(self):\n",
    "        print(\"Es un profesor.\")\n",
    "\n",
    "class ProfesorTitular(Profesor): # Indicamos la herencia de la clase Profesor\n",
    "    def imprimir(self):\n",
    "        print(\"Es un profesor titular.\")\n",
    "\n",
    "class Prueba:\n",
    "    @staticmethod\n",
    "    def main():\n",
    "        profesor1 = ProfesorTitular()\n",
    "        profesor1.imprimir()\n",
    "\n",
    "if __name__ == \"__main__\":\n",
    "    Prueba.main()"
   ]
  }
 ],
 "metadata": {
  "kernelspec": {
   "display_name": "Python 3",
   "language": "python",
   "name": "python3"
  },
  "language_info": {
   "codemirror_mode": {
    "name": "ipython",
    "version": 3
   },
   "file_extension": ".py",
   "mimetype": "text/x-python",
   "name": "python",
   "nbconvert_exporter": "python",
   "pygments_lexer": "ipython3",
   "version": "3.12.10"
  }
 },
 "nbformat": 4,
 "nbformat_minor": 5
}
